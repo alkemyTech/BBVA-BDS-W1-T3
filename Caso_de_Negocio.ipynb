{
  "nbformat": 4,
  "nbformat_minor": 0,
  "metadata": {
    "colab": {
      "provenance": []
    },
    "kernelspec": {
      "name": "python3",
      "display_name": "Python 3"
    },
    "language_info": {
      "name": "python"
    }
  },
  "cells": [
    {
      "cell_type": "markdown",
      "source": [
        "# Caso de Negocio"
      ],
      "metadata": {
        "id": "wNovPqAsAGjg"
      }
    },
    {
      "cell_type": "markdown",
      "source": [
        "### [BBT3-9](https://alkemy-labs.atlassian.net/browse/BBT3-9) Fabricio\n",
        "\n",
        "### [BBT3-10](https://alkemy-labs.atlassian.net/browse/BBT3-10) Judith\n",
        "\n",
        "### [BBT3-11](https://alkemy-labs.atlassian.net/browse/BBT3-11) Pablo\n",
        "\n",
        "### Creacion notebook e importación de librerías."
      ],
      "metadata": {
        "id": "Lyn-0_hKAGO0"
      }
    },
    {
      "cell_type": "code",
      "execution_count": 1,
      "metadata": {
        "colab": {
          "base_uri": "https://localhost:8080/"
        },
        "id": "H9U6ZtRw_3PQ",
        "outputId": "5be2db2c-c2b7-4caf-c3a6-4e0e4c0ee98a"
      },
      "outputs": [
        {
          "output_type": "stream",
          "name": "stdout",
          "text": [
            "Collecting pyspark\n",
            "  Downloading pyspark-3.4.1.tar.gz (310.8 MB)\n",
            "\u001b[2K     \u001b[90m━━━━━━━━━━━━━━━━━━━━━━━━━━━━━━━━━━━━━━━\u001b[0m \u001b[32m310.8/310.8 MB\u001b[0m \u001b[31m2.3 MB/s\u001b[0m eta \u001b[36m0:00:00\u001b[0m\n",
            "\u001b[?25h  Preparing metadata (setup.py) ... \u001b[?25l\u001b[?25hdone\n",
            "Requirement already satisfied: py4j==0.10.9.7 in /usr/local/lib/python3.10/dist-packages (from pyspark) (0.10.9.7)\n",
            "Building wheels for collected packages: pyspark\n",
            "  Building wheel for pyspark (setup.py) ... \u001b[?25l\u001b[?25hdone\n",
            "  Created wheel for pyspark: filename=pyspark-3.4.1-py2.py3-none-any.whl size=311285387 sha256=5f1188243af83dd792236915ba964ed2f2568028efc509f87d29daac90e2a4a4\n",
            "  Stored in directory: /root/.cache/pip/wheels/0d/77/a3/ff2f74cc9ab41f8f594dabf0579c2a7c6de920d584206e0834\n",
            "Successfully built pyspark\n",
            "Installing collected packages: pyspark\n",
            "Successfully installed pyspark-3.4.1\n"
          ]
        }
      ],
      "source": [
        "! pip install pyspark"
      ]
    },
    {
      "cell_type": "code",
      "source": [
        "import pandas as pd\n",
        "from pyspark.sql import SparkSession\n",
        "import sqlite3 as sql"
      ],
      "metadata": {
        "id": "cxSHbv4jASu8"
      },
      "execution_count": 2,
      "outputs": []
    },
    {
      "cell_type": "markdown",
      "source": [
        "## Datasets a base de datos\n",
        "\n",
        "### [BBT3-12](https://alkemy-labs.atlassian.net/browse/BBT3-12) Fabricio\n",
        "\n",
        "### [BBT3-13](https://alkemy-labs.atlassian.net/browse/BBT3-13) Judith\n",
        "\n",
        "### [BBT3-14](https://alkemy-labs.atlassian.net/browse/BBT3-14) Pablo"
      ],
      "metadata": {
        "id": "BQZAj1vkA4ck"
      }
    },
    {
      "cell_type": "code",
      "source": [
        "order_items_link_csv = 'https://raw.githubusercontent.com/alkemyTech/BBVA-BDS-W1-T3/main/datasets/Copia%20de%20ecommerce_order_items_dataset.csv'\n",
        "customers_link_csv = 'https://raw.githubusercontent.com/alkemyTech/BBVA-BDS-W1-T3/main/datasets/Copia%20de%20ecommerce_customers_dataset.csv'\n",
        "geolocation_link_csv = 'https://raw.githubusercontent.com/alkemyTech/BBVA-BDS-W1-T3/main/datasets/Copia%20de%20ecommerce_geolocation_dataset.csv'\n",
        "sellers_link_csv = 'https://raw.githubusercontent.com/alkemyTech/BBVA-BDS-W1-T3/main/datasets/Copia%20de%20ecommerce_sellers_dataset.csv'\n",
        "order_payments_link_csv = 'https://raw.githubusercontent.com/alkemyTech/BBVA-BDS-W1-T3/main/datasets/Copia%20de%20ecommerce_order_payments_dataset.csv'\n",
        "product_category_name_translation_link_csv = 'https://raw.githubusercontent.com/alkemyTech/BBVA-BDS-W1-T3/main/datasets/Copia%20de%20product_category_name_translation.csv'\n",
        "order_reviews_link_csv = 'https://raw.githubusercontent.com/alkemyTech/BBVA-BDS-W1-T3/main/datasets/Copia%20de%20ecommerce_order_reviews_dataset.csv'\n",
        "orders_link_csv = 'https://github.com/alkemyTech/BBVA-BDS-W1-T3/raw/main/datasets/Copia%20de%20ecommerce_orders_dataset.csv'\n",
        "products_link_csv = 'https://raw.githubusercontent.com/alkemyTech/BBVA-BDS-W1-T3/main/datasets/Copia%20de%20ecommerce_products_dataset.csv'\n",
        "\n",
        "\n",
        "order_items_df = pd.read_csv(order_items_link_csv)\n",
        "order_payments_df = pd.read_csv(order_payments_link_csv)\n",
        "products_df = pd.read_csv(products_link_csv)\n",
        "customers_df = pd.read_csv(customers_link_csv)\n",
        "orders_df = pd.read_csv(orders_link_csv)\n",
        "order_reviews_df = pd.read_csv(order_reviews_link_csv)\n",
        "geolocation_df = pd.read_csv(geolocation_link_csv)\n",
        "sellers_df = pd.read_csv(sellers_link_csv)\n",
        "product_category_name_translation_df = pd.read_csv(product_category_name_translation_link_csv)"
      ],
      "metadata": {
        "id": "L08tgVTcA6qP"
      },
      "execution_count": 4,
      "outputs": []
    },
    {
      "cell_type": "code",
      "source": [
        "# seteo de columnas indices:\n",
        "order_items_df.set_index(['order_id', 'order_item_id'], inplace=True)\n",
        "order_payments_df.set_index(['order_id','payment_sequential'], inplace=True)\n",
        "products_df.set_index('product_id', inplace=True)\n",
        "customers_df.set_index('customer_id', inplace=True)\n",
        "orders_df.set_index('order_id', inplace=True)\n",
        "order_reviews_df.set_index('review_id', inplace=True)\n",
        "geolocation_df.set_index('geolocation_zip_code_prefix', inplace=True)\n",
        "sellers_df.set_index('seller_id', inplace=True)\n",
        "product_category_name_translation_df.set_index('product_category_name', inplace=True)"
      ],
      "metadata": {
        "id": "EHZvhU_VA_Yv"
      },
      "execution_count": 5,
      "outputs": []
    },
    {
      "cell_type": "code",
      "source": [
        "# creacion base de datos\n",
        "conn = sql.connect('ecommerce.db')\n",
        "cursor = conn.cursor()"
      ],
      "metadata": {
        "id": "6dtg-9kVBB4j"
      },
      "execution_count": 6,
      "outputs": []
    },
    {
      "cell_type": "code",
      "source": [
        "# guardado de dataframes en tablas de la base de datos\n",
        "order_payments_df.to_sql('order_payments', con=conn, if_exists='replace')\n",
        "order_items_df.to_sql('order_items', con=conn, if_exists='replace')\n",
        "orders_df.to_sql('orders', con=conn, if_exists='replace')\n",
        "customers_df.to_sql('customers', con=conn, if_exists='replace')\n",
        "products_df.to_sql('products', con=conn, if_exists='replace')\n",
        "order_reviews_df.to_sql('order_reviews', con=conn, if_exists='replace')\n",
        "geolocation_df.to_sql('geolocation', con=conn, if_exists='replace')\n",
        "sellers_df.to_sql('sellers', con=conn, if_exists='replace')\n",
        "product_category_name_translation_df.to_sql('product_category_name_translation', con=conn, if_exists='replace')"
      ],
      "metadata": {
        "colab": {
          "base_uri": "https://localhost:8080/"
        },
        "id": "THiQhnUtBD7o",
        "outputId": "eed9efc9-0127-4fd2-ff20-ff1eec52b92b"
      },
      "execution_count": 7,
      "outputs": [
        {
          "output_type": "execute_result",
          "data": {
            "text/plain": [
              "71"
            ]
          },
          "metadata": {},
          "execution_count": 7
        }
      ]
    },
    {
      "cell_type": "code",
      "source": [
        "# query para obtener los nombres de las tablas creadas\n",
        "cursor.execute(\"SELECT name FROM sqlite_master WHERE type='table';\")\n",
        "lista_tablas = cursor.fetchall()\n",
        "lista_nombre_tablas = [tabla[0] for tabla in lista_tablas]\n",
        "print(lista_nombre_tablas)"
      ],
      "metadata": {
        "colab": {
          "base_uri": "https://localhost:8080/"
        },
        "id": "tvwDmuELBEla",
        "outputId": "5347088d-1c41-472a-eece-2c2c9b85cc41"
      },
      "execution_count": 8,
      "outputs": [
        {
          "output_type": "stream",
          "name": "stdout",
          "text": [
            "['order_payments', 'order_items', 'orders', 'customers', 'products', 'order_reviews', 'geolocation', 'sellers', 'product_category_name_translation']\n"
          ]
        }
      ]
    }
  ]
}